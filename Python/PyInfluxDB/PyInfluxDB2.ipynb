{
 "cells": [
  {
   "cell_type": "markdown",
   "metadata": {},
   "source": [
    "# Dependencias\n",
    "* pip install influxdb"
   ]
  },
  {
   "cell_type": "code",
   "execution_count": 1,
   "metadata": {},
   "outputs": [],
   "source": [
    "from datetime import datetime\n",
    "from influxdb import InfluxDBClient\n",
    "from influxdb import DataFrameClient\n",
    "\n",
    "client = InfluxDBClient('localhost', 8086, 'root', 'root')\n",
    "\n",
    "pclient = DataFrameClient('localhost', 8086, 'root', 'root')"
   ]
  },
  {
   "cell_type": "code",
   "execution_count": 2,
   "metadata": {},
   "outputs": [],
   "source": [
    "client.create_database('example')\n",
    "client.create_retention_policy('MyDefaultPolicy', '30d', 3, database='example', default=True, shard_duration='1w')\n",
    "client.switch_database('example')\n",
    "# client.drop_database('example')"
   ]
  },
  {
   "cell_type": "code",
   "execution_count": 3,
   "metadata": {},
   "outputs": [
    {
     "name": "stdout",
     "output_type": "stream",
     "text": [
      "{'name': '_internal'}\n",
      "{'name': 'example'}\n"
     ]
    }
   ],
   "source": [
    "for database in client.get_list_database():\n",
    "    \n",
    "    print(database)"
   ]
  },
  {
   "cell_type": "code",
   "execution_count": 4,
   "metadata": {},
   "outputs": [
    {
     "data": {
      "text/plain": [
       "True"
      ]
     },
     "execution_count": 4,
     "metadata": {},
     "output_type": "execute_result"
    }
   ],
   "source": [
    "data = [\n",
    "    {\n",
    "        \"measurement\": \"cpu\",\n",
    "        \"tags\": {\n",
    "            \"place1\": \"mother board\",\n",
    "            \"place2\": \"socket\",\n",
    "            \"component\": \"processor\"\n",
    "        },\n",
    "        \"time\": datetime.now(),\n",
    "        \"fields\": {\n",
    "            \"volts\": 3.3,\n",
    "            \"internalTemp\": 65,\n",
    "            \"externalTemp\": 50\n",
    "        }\n",
    "    },\n",
    "    {\n",
    "        \"measurement\": \"cpu\",\n",
    "        \"tags\": {\n",
    "            \"place1\": \"mother board\",\n",
    "            \"place2\": \"socket\",\n",
    "            \"component\": \"processor\"\n",
    "        },\n",
    "        \"time\": datetime.now(),\n",
    "        \"fields\": {\n",
    "            \"volts\": 3.3,\n",
    "            \"internalTemp\": 64,\n",
    "            \"externalTemp\": 48\n",
    "        }\n",
    "    },\n",
    "    {\n",
    "        \"measurement\": \"cpu\",\n",
    "        \"tags\": {\n",
    "            \"place1\": \"mother board\",\n",
    "            \"place2\": \"socket\",\n",
    "            \"component\": \"processor\"\n",
    "        },\n",
    "        \"time\": datetime.now(),\n",
    "        \"fields\": {\n",
    "            \"volts\": 3.275,\n",
    "            \"internalTemp\": 64,\n",
    "            \"externalTemp\": 48\n",
    "        }\n",
    "    },\n",
    "    {\n",
    "        \"measurement\": \"cpu\",\n",
    "        \"tags\": {\n",
    "            \"place1\": \"mother board\",\n",
    "            \"place2\": \"socket\",\n",
    "            \"component\": \"processor\"\n",
    "        },\n",
    "        \"time\": datetime.now(),\n",
    "        \"fields\": {\n",
    "            \"volts\": 3.3,\n",
    "            \"internalTemp\": 64,\n",
    "            \"externalTemp\": 50\n",
    "        }\n",
    "    },\n",
    "    {\n",
    "        \"measurement\": \"cpu\",\n",
    "        \"tags\": {\n",
    "            \"place1\": \"mother board\",\n",
    "            \"place2\": \"socket\",\n",
    "            \"component\": \"processor\"\n",
    "        },\n",
    "        \"time\": datetime.now(),\n",
    "        \"fields\": {\n",
    "            \"volts\": 3.1,\n",
    "            \"internalTemp\": 63,\n",
    "            \"externalTemp\": 45\n",
    "        }\n",
    "    },\n",
    "    {\n",
    "        \"measurement\": \"cpu\",\n",
    "        \"tags\": {\n",
    "            \"place1\": \"mother board\",\n",
    "            \"place2\": \"socket\",\n",
    "            \"component\": \"processor\"\n",
    "        },\n",
    "        \"time\": datetime.now(),\n",
    "        \"fields\": {\n",
    "            \"volts\": 3.3,\n",
    "            \"internalTemp\": 65,\n",
    "            \"externalTemp\": 50\n",
    "        }\n",
    "    }\n",
    "]\n",
    "\n",
    "client.write_points(data)"
   ]
  },
  {
   "cell_type": "code",
   "execution_count": 5,
   "metadata": {},
   "outputs": [
    {
     "name": "stdout",
     "output_type": "stream",
     "text": [
      "{'time': '2020-05-13T00:07:24.079696Z', 'component': 'processor', 'externalTemp': 50, 'internalTemp': 65, 'place1': 'mother board', 'place2': 'socket', 'volts': 3.3} \n",
      "\n",
      "{'time': '2020-05-13T00:07:24.079698Z', 'component': 'processor', 'externalTemp': 48, 'internalTemp': 64, 'place1': 'mother board', 'place2': 'socket', 'volts': 3.3} \n",
      "\n",
      "{'time': '2020-05-13T00:07:24.079699Z', 'component': 'processor', 'externalTemp': 48, 'internalTemp': 64, 'place1': 'mother board', 'place2': 'socket', 'volts': 3.275} \n",
      "\n",
      "{'time': '2020-05-13T00:07:24.079700Z', 'component': 'processor', 'externalTemp': 45, 'internalTemp': 63, 'place1': 'mother board', 'place2': 'socket', 'volts': 3.1} \n",
      "\n",
      "{'time': '2020-05-13T00:07:24.079701Z', 'component': 'processor', 'externalTemp': 50, 'internalTemp': 65, 'place1': 'mother board', 'place2': 'socket', 'volts': 3.3} \n",
      "\n"
     ]
    }
   ],
   "source": [
    "results = client.query(query='SELECT * from cpu', database='example')\n",
    "\n",
    "for row in results.get_points():\n",
    "    \n",
    "    print(row,\"\\n\")\n"
   ]
  },
  {
   "cell_type": "code",
   "execution_count": 6,
   "metadata": {},
   "outputs": [
    {
     "name": "stdout",
     "output_type": "stream",
     "text": [
      "                                        place1  place2  component  volts  \\\n",
      "2020-05-13 00:07:24.079696+00:00  mother board  socket  processor  3.300   \n",
      "2020-05-13 00:07:24.079698+00:00  mother board  socket  processor  3.300   \n",
      "2020-05-13 00:07:24.079699+00:00  mother board  socket  processor  3.275   \n",
      "2020-05-13 00:07:24.079700+00:00  mother board  socket  processor  3.100   \n",
      "2020-05-13 00:07:24.079701+00:00  mother board  socket  processor  3.300   \n",
      "\n",
      "                                  externalTemp  internalTemp  \n",
      "2020-05-13 00:07:24.079696+00:00            50            65  \n",
      "2020-05-13 00:07:24.079698+00:00            48            64  \n",
      "2020-05-13 00:07:24.079699+00:00            48            64  \n",
      "2020-05-13 00:07:24.079700+00:00            45            63  \n",
      "2020-05-13 00:07:24.079701+00:00            50            65  \n"
     ]
    }
   ],
   "source": [
    "results = pclient.query(query='SELECT \"time\",\"place1\",\"place2\",\"component\",\"volts\",\"externalTemp\",\"internalTemp\" from cpu', database='example')\n",
    "\n",
    "print(results[\"cpu\"])\n"
   ]
  }
 ],
 "metadata": {
  "kernelspec": {
   "display_name": "Python 3",
   "language": "python",
   "name": "python3"
  },
  "language_info": {
   "codemirror_mode": {
    "name": "ipython",
    "version": 3
   },
   "file_extension": ".py",
   "mimetype": "text/x-python",
   "name": "python",
   "nbconvert_exporter": "python",
   "pygments_lexer": "ipython3",
   "version": "3.7.4"
  }
 },
 "nbformat": 4,
 "nbformat_minor": 2
}
