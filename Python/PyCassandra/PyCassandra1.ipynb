{
 "cells": [
  {
   "cell_type": "markdown",
   "metadata": {},
   "source": [
    "![title](https://ucm.es/themes/ucm16/media/img/logo.png)\n",
    "\n",
    "# Bases de datos NoSQL - Rafael Caballero\n",
    "### Cassandra en Python \n",
    "\n",
    "- Descargar \n",
    "\n",
    "\n",
    "Desde Anaconda Prompt:\n",
    "Cassandra\n",
    "\n",
    "    pip install cassandra\n",
    "    \n"
   ]
  },
  {
   "cell_type": "code",
   "execution_count": 6,
   "metadata": {},
   "outputs": [],
   "source": []
  },
  {
   "cell_type": "markdown",
   "metadata": {},
   "source": [
    "Probamos Cassandra"
   ]
  },
  {
   "cell_type": "code",
   "execution_count": 12,
   "metadata": {},
   "outputs": [],
   "source": [
    "from cassandra.cluster import Cluster\n",
    "from cassandra.auth import PlainTextAuthProvider\n",
    "\n",
    "# credenciales, del cluster que \n",
    "username = 'nosql'\n",
    "password = 'Bertoldo&Herminia4ever'\n",
    "\n",
    "cloud_config= {\n",
    "        'secure_connect_bundle': 'C:/rafa/docencia/1920/nosql/cassandra/secure-connect-nosql.zip'\n",
    "}\n",
    "auth_provider = PlainTextAuthProvider(username, password)\n",
    "\n",
    "\n",
    "# la password también sale al principio\n",
    "auth_provider = PlainTextAuthProvider(\n",
    "        username=username, password=password)\n",
    "\n",
    "cluster = Cluster(cloud=cloud_config, auth_provider=auth_provider)\n",
    "session = cluster.connect()"
   ]
  },
  {
   "cell_type": "markdown",
   "metadata": {},
   "source": [
    "Ejemplo de select:"
   ]
  },
  {
   "cell_type": "code",
   "execution_count": 13,
   "metadata": {},
   "outputs": [
    {
     "name": "stdout",
     "output_type": "stream",
     "text": [
      "4.0.0.680\n"
     ]
    }
   ],
   "source": [
    "row = session.execute(\"select release_version from system.local\").one()\n",
    "if row:\n",
    "    print(row[0])\n",
    "else:\n",
    "    print(\"An error occurred.\")"
   ]
  },
  {
   "cell_type": "code",
   "execution_count": 14,
   "metadata": {},
   "outputs": [],
   "source": [
    "session.shutdown()"
   ]
  },
  {
   "cell_type": "code",
   "execution_count": null,
   "metadata": {},
   "outputs": [],
   "source": []
  }
 ],
 "metadata": {
  "kernelspec": {
   "display_name": "Python 3",
   "language": "python",
   "name": "python3"
  },
  "language_info": {
   "codemirror_mode": {
    "name": "ipython",
    "version": 3
   },
   "file_extension": ".py",
   "mimetype": "text/x-python",
   "name": "python",
   "nbconvert_exporter": "python",
   "pygments_lexer": "ipython3",
   "version": "3.7.4"
  }
 },
 "nbformat": 4,
 "nbformat_minor": 2
}
